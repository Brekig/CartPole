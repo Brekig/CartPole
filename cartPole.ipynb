{
 "cells": [
  {
   "cell_type": "code",
   "execution_count": 3,
   "metadata": {},
   "outputs": [],
   "source": [
    "import time\n",
    "from collections import deque, namedtuple\n",
    "\n",
    "import base64\n",
    "import imageio\n",
    "import gymnasium as gym\n",
    "import numpy as np\n",
    "# import PIL.Image\n",
    "import tensorflow as tf\n",
    "import IPython\n",
    "\n",
    "from pyvirtualdisplay import Display\n",
    "from tensorflow.keras import Sequential\n",
    "from tensorflow.keras.layers import Dense, Input\n",
    "from tensorflow.keras.losses import MSE\n",
    "from tensorflow.keras.optimizers import Adam\n",
    "import random\n",
    "import PIL.Image\n",
    "from tensorflow.keras.losses import MSE\n",
    "from IPython.display import Video\n",
    "import matplotlib.pyplot as plt\n",
    "import matplotlib.ticker as mticker\n",
    "import pandas as pd\n",
    "import seaborn as sns\n"
   ]
  },
  {
   "cell_type": "code",
   "execution_count": 4,
   "metadata": {},
   "outputs": [],
   "source": [
    "SEED = 0\n",
    "MEMORY_SIZE = 100_000     # size of memory buffer\n",
    "GAMMA = 0.995             # discount factor\n",
    "ALPHA = 1e-3              # learning rate  \n",
    "NUM_STEPS_FOR_UPDATE = 7  # perform a learning update every C time steps\n",
    "MINIBATCH_SIZE = 64  # Mini-batch size.\n",
    "TAU = 1e-3  # Soft update parameter.\n",
    "E_DECAY = 0.995  # ε-decay rate for the ε-greedy policy.\n",
    "E_MIN = 0.01  # Minimum ε value for the ε-greedy policy."
   ]
  },
  {
   "cell_type": "code",
   "execution_count": 5,
   "metadata": {},
   "outputs": [],
   "source": [
    "SEED = 0\n",
    "random.seed(SEED)"
   ]
  },
  {
   "cell_type": "code",
   "execution_count": 6,
   "metadata": {},
   "outputs": [],
   "source": [
    "# 0: Push cart to the left\n",
    "# 1: Push cart to the right\n",
    "# tf.random.set_seed(SEED)"
   ]
  },
  {
   "cell_type": "code",
   "execution_count": 7,
   "metadata": {},
   "outputs": [],
   "source": [
    "env = gym.make('CartPole-v1', render_mode='rgb_array')"
   ]
  },
  {
   "cell_type": "code",
   "execution_count": 8,
   "metadata": {},
   "outputs": [
    {
     "name": "stdout",
     "output_type": "stream",
     "text": [
      "State Shape: (4,)\n",
      "Number of actions: 2\n"
     ]
    }
   ],
   "source": [
    "state_size = env.observation_space.shape\n",
    "num_actions = env.action_space.n\n",
    "\n",
    "print('State Shape:', state_size)\n",
    "print('Number of actions:', num_actions)"
   ]
  },
  {
   "cell_type": "code",
   "execution_count": 9,
   "metadata": {},
   "outputs": [
    {
     "name": "stdout",
     "output_type": "stream",
     "text": [
      "(array([-0.00188332,  0.03176157, -0.01130234, -0.04650464], dtype=float32), {})\n"
     ]
    }
   ],
   "source": [
    "current_state = env.reset()\n",
    "# current_state = np.reshape(current_state[0], (1, state_size[0]))\n",
    "print(current_state)"
   ]
  },
  {
   "cell_type": "code",
   "execution_count": 10,
   "metadata": {},
   "outputs": [],
   "source": [
    "# next_state = Cart Pos, Cart Velo, Pole Angle, Pole Velo\n",
    "# reward = +1 for every step taken\n",
    "action = 0\n",
    "next_state, reward, done, _, _ = env.step(action)\n",
    "current_state = next_state"
   ]
  },
  {
   "cell_type": "markdown",
   "metadata": {},
   "source": [
    "Formula\n",
    "$$\n",
    "Q_{i+1}(s,a) = R + \\gamma \\max_{a'}Q_i(s',a')\n",
    "$$\n"
   ]
  },
  {
   "cell_type": "markdown",
   "metadata": {},
   "source": [
    "We can train the $Q$-Network by adjusting it's weights at each iteration to minimize the mean-squared error in the Bellman equation, where the target values are given by:\n",
    "\n",
    "$$\n",
    "y = R + \\gamma \\max_{a'}Q(s',a';w)\n",
    "$$\n",
    "\n",
    "\n",
    "$$\n",
    "\\overbrace{\\underbrace{R + \\gamma \\max_{a'}Q(s',a'; w)}_{\\rm {y~target}} - Q(s,a;w)}^{\\rm {Error}}\n",
    "$$\n",
    "\n",
    "\n",
    "$$\n",
    "\\overbrace{\\underbrace{R + \\gamma \\max_{a'}\\hat{Q}(s',a'; w^-)}_{\\rm {y~target}} - Q(s,a;w)}^{\\rm {Error}}\n",
    "$$\n",
    "\n",
    "$$\n",
    "w^-\\leftarrow \\tau w + (1 - \\tau) w^-\n",
    "$$\n"
   ]
  },
  {
   "cell_type": "code",
   "execution_count": 11,
   "metadata": {},
   "outputs": [],
   "source": [
    "q_network = Sequential([\n",
    "    Input(shape=state_size),\n",
    "    Dense(units=32, activation='relu'),\n",
    "    Dense(units=32, activation='relu'),\n",
    "    Dense(units=num_actions, activation='linear')\n",
    "])\n",
    "\n",
    "target_q_network = Sequential([\n",
    "    Input(shape=state_size),\n",
    "    Dense(units=32, activation='relu'),\n",
    "    Dense(units=32, activation='relu'),\n",
    "    Dense(units=num_actions, activation='linear')\n",
    "])\n",
    "# WARNING:absl:At this time, the v2.11+ optimizer `tf.keras.optimizers.Adam` runs slowly on M1/M2 Macs, please use the legacy Keras optimizer instead, located at `tf.keras.optimizers.legacy.Adam`\n",
    "optimizer = tf.keras.optimizers.legacy.Adam(learning_rate=ALPHA)"
   ]
  },
  {
   "cell_type": "code",
   "execution_count": 12,
   "metadata": {},
   "outputs": [],
   "source": [
    "experience = namedtuple(\"Experience\", field_names=[\"state\", \"action\", \"reward\", \"next_state\", \"done\"])"
   ]
  },
  {
   "cell_type": "markdown",
   "metadata": {},
   "source": [
    "$$\n",
    "\\begin{equation}\n",
    "    y_j =\n",
    "    \\begin{cases}\n",
    "      R_j & \\text{if episode terminates at step  } j+1\\\\\n",
    "      R_j + \\gamma \\max_{a'}\\hat{Q}(s_{j+1},a') & \\text{otherwise}\\\\\n",
    "    \\end{cases}       \n",
    "\\end{equation}\n",
    "$$"
   ]
  },
  {
   "cell_type": "code",
   "execution_count": 13,
   "metadata": {},
   "outputs": [],
   "source": [
    "def compute_loss(experiences : namedtuple, gamma : float, q_network, target_q_network):\n",
    "    \"\"\" \n",
    "    Calculates the loss.\n",
    "    \n",
    "    Args:\n",
    "      experiences: [\"state\", \"action\", \"reward\", \"next_state\", \"done\"] namedtuples\n",
    "      gamma: discount factor.\n",
    "      q_network: (tf.keras.Sequential) Keras model for predicting the q_values\n",
    "      target_q_network: (tf.keras.Sequential) Keras model for predicting the targets\n",
    "          \n",
    "    Returns:\n",
    "      loss: (TensorFlow Tensor(shape=(0,), dtype=int32)) the Mean-Squared Error between\n",
    "            the y targets and the Q(s,a) values.\n",
    "    \"\"\"\n",
    "\n",
    "\n",
    "    # Unpack the mini-batch of experience tuples\n",
    "    states, actions, rewards, next_states, done_vals = experiences\n",
    "    \n",
    "    # Compute max Q^(s,a)\n",
    "    max_qsa = tf.reduce_max(target_q_network(next_states), axis=-1)\n",
    "    \n",
    "    # Set y = R if episode terminates, otherwise set y = R + γ max Q^(s,a).\n",
    "    y_targets = rewards + (gamma * max_qsa * (1 - float(done_vals)))\n",
    "\n",
    "    # Get the q_values and reshape to match y_targets\n",
    "    q_values = q_network(states)\n",
    "    q_values = tf.gather_nd(q_values, tf.stack([tf.range(q_values.shape[0]),\n",
    "                                                tf.cast(actions, tf.int32)], axis=1))\n",
    "    # Compute the loss\n",
    "    loss = MSE(y_targets, q_values) \n",
    "    \n",
    "    return loss"
   ]
  },
  {
   "cell_type": "code",
   "execution_count": 14,
   "metadata": {},
   "outputs": [],
   "source": [
    "def update_target_network(q_network, target_q_network):\n",
    "    \"\"\"\n",
    "    The weights of the target_q_network are updated using the soft update rule:    \n",
    "                    w_target = (TAU * w) + (1 - TAU) * w_target\n",
    "    \n",
    "    TAU is the soft update\n",
    "    Args:\n",
    "        q_network (tf.keras.Sequential): \n",
    "        target_q_network (tf.keras.Sequential):\n",
    "    \"\"\"\n",
    "\n",
    "    for target_weights, q_net_weights in zip(\n",
    "        target_q_network.weights, q_network.weights\n",
    "    ):\n",
    "        target_weights.assign(TAU * q_net_weights + (1.0 - TAU) * target_weights)"
   ]
  },
  {
   "cell_type": "code",
   "execution_count": 15,
   "metadata": {},
   "outputs": [],
   "source": [
    "@tf.function\n",
    "def agent_learn(experiences, gamma):\n",
    "    \"\"\"\n",
    "    Updates the weights of the Q networks.\n",
    "    Args:\n",
    "      experiences: (tuple) tuple of [\"state\", \"action\", \"reward\", \"next_state\", \"done\"] namedtuples\n",
    "      gamma: (float) The discount factor.\n",
    "    \n",
    "    \"\"\"\n",
    "    \n",
    "    # Calculate the loss\n",
    "    with tf.GradientTape() as tape:\n",
    "        loss = compute_loss(experiences, gamma, q_network, target_q_network)\n",
    "\n",
    "    # Get the gradients of the loss with respect to the weights.\n",
    "    gradients = tape.gradient(loss, q_network.trainable_variables)\n",
    "    \n",
    "    # Update the weights of the q_network.\n",
    "    optimizer.apply_gradients(zip(gradients, q_network.trainable_variables))\n",
    "\n",
    "    # update the weights of target q_network\n",
    "    update_target_network(q_network, target_q_network)"
   ]
  },
  {
   "cell_type": "code",
   "execution_count": 16,
   "metadata": {},
   "outputs": [],
   "source": [
    "def get_action(q_values, epsilon=0.0) -> int:\n",
    "\n",
    "    if random.random() > epsilon:\n",
    "        return np.argmax(q_values.numpy()[0])\n",
    "    else:\n",
    "        return random.choice(np.arange(2))"
   ]
  },
  {
   "cell_type": "code",
   "execution_count": 17,
   "metadata": {},
   "outputs": [],
   "source": [
    "def check_update_conditions(t, num_steps_upd, memory_buffer) -> bool:\n",
    "    \"\"\"\n",
    "    Determines if the conditions are met to perform a learning update.\n",
    "\n",
    "    Checks if the current time step t is a multiple of num_steps_upd and if the\n",
    "    memory_buffer has enough experience tuples to fill a mini-batch \n",
    "\n",
    "    \"\"\"\n",
    "\n",
    "    if (t + 1) % num_steps_upd == 0 and len(memory_buffer) > MINIBATCH_SIZE:\n",
    "        return True\n",
    "    else:\n",
    "        return False"
   ]
  },
  {
   "cell_type": "code",
   "execution_count": 18,
   "metadata": {},
   "outputs": [],
   "source": [
    "def get_experiences(memory_buffer):\n",
    "    experiences = random.sample(memory_buffer, k=MINIBATCH_SIZE)\n",
    "    states = tf.convert_to_tensor(\n",
    "        np.array([e.state for e in experiences if e is not None]), dtype=tf.float32\n",
    "    )\n",
    "    actions = tf.convert_to_tensor(\n",
    "        np.array([e.action for e in experiences if e is not None]), dtype=tf.float32\n",
    "    )\n",
    "    rewards = tf.convert_to_tensor(\n",
    "        np.array([e.reward for e in experiences if e is not None]), dtype=tf.float32\n",
    "    )\n",
    "    next_states = tf.convert_to_tensor(\n",
    "        np.array([e.next_state for e in experiences if e is not None]), dtype=tf.float32\n",
    "    )\n",
    "    done_vals = tf.convert_to_tensor(\n",
    "        np.array([e.done for e in experiences if e is not None]).astype(np.uint8),\n",
    "        dtype=tf.float32,\n",
    "    )\n",
    "    return (states, actions, rewards, next_states, done_vals)"
   ]
  },
  {
   "cell_type": "code",
   "execution_count": 19,
   "metadata": {},
   "outputs": [
    {
     "name": "stdout",
     "output_type": "stream",
     "text": [
      "Episode 6 | Total point average of the last 100 episodes: 17.17"
     ]
    },
    {
     "name": "stderr",
     "output_type": "stream",
     "text": [
      "2023-12-31 12:17:15.122643: W tensorflow/tsl/platform/profile_utils/cpu_utils.cc:128] Failed to get CPU frequency: 0 Hz\n"
     ]
    },
    {
     "name": "stdout",
     "output_type": "stream",
     "text": [
      "Episode 100 | Total point average of the last 100 episodes: 14.39\n",
      "Episode 200 | Total point average of the last 100 episodes: 10.79\n",
      "Episode 300 | Total point average of the last 100 episodes: 9.810\n",
      "Episode 400 | Total point average of the last 100 episodes: 9.70\n",
      "Episode 500 | Total point average of the last 100 episodes: 9.49\n",
      "Episode 600 | Total point average of the last 100 episodes: 9.42\n",
      "Episode 700 | Total point average of the last 100 episodes: 9.38\n",
      "Episode 800 | Total point average of the last 100 episodes: 9.40\n",
      "Episode 900 | Total point average of the last 100 episodes: 9.24\n",
      "Episode 1000 | Total point average of the last 100 episodes: 9.46\n",
      "Episode 1100 | Total point average of the last 100 episodes: 9.49\n",
      "Episode 1200 | Total point average of the last 100 episodes: 9.42\n",
      "Episode 1300 | Total point average of the last 100 episodes: 9.37\n",
      "Episode 1400 | Total point average of the last 100 episodes: 9.57\n",
      "Episode 1500 | Total point average of the last 100 episodes: 9.42\n",
      "Episode 1600 | Total point average of the last 100 episodes: 9.68\n",
      "Episode 1700 | Total point average of the last 100 episodes: 10.23\n",
      "Episode 1800 | Total point average of the last 100 episodes: 9.971\n",
      "Episode 1900 | Total point average of the last 100 episodes: 10.52\n",
      "Episode 2000 | Total point average of the last 100 episodes: 10.64\n",
      "Episode 2100 | Total point average of the last 100 episodes: 10.99\n",
      "Episode 2200 | Total point average of the last 100 episodes: 13.81\n",
      "Episode 2300 | Total point average of the last 100 episodes: 51.14\n",
      "Episode 2400 | Total point average of the last 100 episodes: 198.67\n",
      "Episode 2500 | Total point average of the last 100 episodes: 226.91\n",
      "Episode 2600 | Total point average of the last 100 episodes: 274.26\n",
      "Episode 2700 | Total point average of the last 100 episodes: 269.37\n",
      "Episode 2800 | Total point average of the last 100 episodes: 264.93\n",
      "Episode 2900 | Total point average of the last 100 episodes: 219.66\n",
      "Episode 3000 | Total point average of the last 100 episodes: 176.57\n",
      "Episode 3100 | Total point average of the last 100 episodes: 150.13\n",
      "Episode 3200 | Total point average of the last 100 episodes: 169.13\n",
      "Episode 3300 | Total point average of the last 100 episodes: 232.19\n",
      "Episode 3400 | Total point average of the last 100 episodes: 226.08\n",
      "Episode 3500 | Total point average of the last 100 episodes: 210.39\n",
      "Episode 3600 | Total point average of the last 100 episodes: 103.05\n",
      "Episode 3700 | Total point average of the last 100 episodes: 146.68\n",
      "Episode 3800 | Total point average of the last 100 episodes: 217.99\n",
      "Episode 3900 | Total point average of the last 100 episodes: 197.83\n",
      "Episode 4000 | Total point average of the last 100 episodes: 188.90\n",
      "\n",
      "Total Runtime: 282.94 s (4.72 min)\n"
     ]
    }
   ],
   "source": [
    "start = time.time()\n",
    "\n",
    "num_episodes = 3000\n",
    "max_num_steps = 4000\n",
    "\n",
    "total_points_history = []\n",
    "\n",
    "num_p_avg = 100 # Number of total points \n",
    "epsilon = 0.5 # Initial epsilon value\n",
    "\n",
    "# Initialize memory buffer\n",
    "memory_buffer = deque(maxlen=MEMORY_SIZE)\n",
    "\n",
    "target_q_network.set_weights(q_network.get_weights())\n",
    "\n",
    "for i in range(num_episodes):\n",
    "    # state = env.reset()\n",
    "    state, _ = env.reset()\n",
    "    total_points = 0\n",
    "    for t in range(max_num_steps):\n",
    "        state_qn = np.expand_dims(state, axis=0) # right shape for q_network\n",
    "        q_values = q_network(state_qn)\n",
    "        action = get_action(q_values, epsilon)\n",
    "        \n",
    "        # get next state and reward from action\n",
    "        next_state, reward, done, _, _ = env.step(action)\n",
    "        \n",
    "        # add experience to memory buffer\n",
    "        memory_buffer.append(experience(state, action, reward, next_state, done))\n",
    "        \n",
    "        if check_update_conditions(i, NUM_STEPS_FOR_UPDATE, memory_buffer):\n",
    "            # Sample a mini-batch of experiences from the memory buffer\n",
    "            minibatch_experiences = get_experiences(memory_buffer)\n",
    "            # Perform a learning update\n",
    "            agent_learn(minibatch_experiences, GAMMA)\n",
    "            \n",
    "        state = next_state.copy()\n",
    "        total_points += reward\n",
    "        if done:\n",
    "            break\n",
    "        \n",
    "    total_points_history.append(total_points)\n",
    "    \n",
    "    avg_latest_points = np.mean(total_points_history[-num_p_avg:])\n",
    "    \n",
    "    #update epsilon\n",
    "    epsilon = max(E_MIN, E_DECAY * epsilon)\n",
    "    \n",
    "    print(f\"\\rEpisode {i+1} | Total point average of the last {num_p_avg} episodes: {avg_latest_points:.2f}\", end=\"\")\n",
    "\n",
    "    if (i+1) % num_p_avg == 0:\n",
    "        print(f\"\\rEpisode {i+1} | Total point average of the last {num_p_avg} episodes: {avg_latest_points:.2f}\")\n",
    "        \n",
    "    # We will consider that the environment is solved if we get an\n",
    "    # average of 200 points in the last 100 episodes.\n",
    "    if avg_latest_points >= 400.0:\n",
    "        print(f\"\\n\\nEnvironment solved in {i+1} episodes!\")\n",
    "        q_network.save('Cart_pole_model.h5')\n",
    "        break\n",
    "    \n",
    "tot_time = time.time() - start\n",
    "\n",
    "print(f\"\\nTotal Runtime: {tot_time:.2f} s ({(tot_time/60):.2f} min)\")"
   ]
  },
  {
   "cell_type": "code",
   "execution_count": 20,
   "metadata": {},
   "outputs": [],
   "source": [
    "\n",
    "def create_video(filename, env, q_network, fps=30):\n",
    "    start = time.time()\n",
    "    with imageio.get_writer(filename, fps=fps) as video:\n",
    "        done = False\n",
    "        state, _ = env.reset()\n",
    "        frame = env.render()\n",
    "        video.append_data(frame)\n",
    "        while not done:\n",
    "            if time.time() - start > 20:\n",
    "                break\n",
    "            state = np.expand_dims(state, axis=0)\n",
    "            q_values = q_network(state)\n",
    "            action = np.argmax(q_values.numpy()[0])\n",
    "            state, _, done, _, _ = env.step(action)\n",
    "            frame = env.render()\n",
    "            video.append_data(frame)\n",
    "\n",
    "    env.close()\n"
   ]
  },
  {
   "cell_type": "code",
   "execution_count": 21,
   "metadata": {},
   "outputs": [],
   "source": [
    "def embed_mp4(filename):\n",
    "    video = open(filename, \"rb\").read()\n",
    "    b64 = base64.b64encode(video)\n",
    "    tag = \"\"\"\n",
    "    <video width=\"840\" height=\"480\" controls>\n",
    "    <source src=\"data:video/mp4;base64,{0}\" type=\"video/mp4\">\n",
    "    Your browser does not support the video tag.\n",
    "    </video>\"\"\".format(\n",
    "        b64.decode()\n",
    "    )\n",
    "\n",
    "    return IPython.display.HTML(tag)"
   ]
  },
  {
   "cell_type": "code",
   "execution_count": 22,
   "metadata": {},
   "outputs": [
    {
     "name": "stderr",
     "output_type": "stream",
     "text": [
      "IMAGEIO FFMPEG_WRITER WARNING: input image is not divisible by macro_block_size=16, resizing from (600, 400) to (608, 400) to ensure video compatibility with most codecs and players. To prevent resizing, make your input image divisible by the macro_block_size or set the macro_block_size to 1 (risking incompatibility).\n"
     ]
    },
    {
     "data": {
      "text/html": [
       "\n",
       "    <video width=\"840\" height=\"480\" controls>\n",
       "    <source src=\"data:video/mp4;base64,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\" type=\"video/mp4\">\n",
       "    Your browser does not support the video tag.\n",
       "    </video>"
      ],
      "text/plain": [
       "<IPython.core.display.HTML object>"
      ]
     },
     "execution_count": 22,
     "metadata": {},
     "output_type": "execute_result"
    }
   ],
   "source": [
    "filename = \"./cart_pole.mp4\"\n",
    "create_video(filename, env, q_network)\n",
    "embed_mp4(filename)"
   ]
  },
  {
   "cell_type": "code",
   "execution_count": 23,
   "metadata": {},
   "outputs": [
    {
     "data": {
      "image/png": "[encoded data removed]",
      "text/plain": [
       "<Figure size 1000x700 with 1 Axes>"
      ]
     },
     "metadata": {},
     "output_type": "display_data"
    }
   ],
   "source": [
    "upper_limit = len(total_points_history)\n",
    "points = total_points_history\n",
    "episode_num = [x for x in range(0, upper_limit)]\n",
    "window_size = (upper_limit * 10) // 100\n",
    "\n",
    "# Use Pandas to calculate the rolling mean (moving average).\n",
    "rolling_mean = pd.DataFrame(points).rolling(window_size).mean()\n",
    "\n",
    "# Create a single figure\n",
    "plt.figure(figsize=(10, 7), facecolor=\"white\")\n",
    "\n",
    "# Plotting the data\n",
    "plt.plot(episode_num, points, label=\"Total Points\")\n",
    "plt.plot(episode_num, rolling_mean, label=\"Moving Average\")\n",
    "\n",
    "# Setting up the axes, labels, and formatting\n",
    "ax = plt.gca()\n",
    "text_color = \"black\"\n",
    "plt.xlabel(\"Episode\", fontsize=14)\n",
    "plt.ylabel(\"Total Points\", fontsize=14)\n",
    "yNumFmt = mticker.StrMethodFormatter(\"{x:,}\")\n",
    "ax.yaxis.set_major_formatter(yNumFmt)\n",
    "ax.tick_params(axis=\"x\", colors=text_color)\n",
    "ax.tick_params(axis=\"y\", colors=text_color)\n",
    "\n",
    "# Show the plot\n",
    "plt.show()"
   ]
  },
  {
   "cell_type": "code",
   "execution_count": 24,
   "metadata": {},
   "outputs": [
    {
     "name": "stderr",
     "output_type": "stream",
     "text": [
      "/Users/brekigudmundsson/miniconda3/envs/venv/lib/python3.10/site-packages/seaborn/_oldcore.py:1119: FutureWarning: use_inf_as_na option is deprecated and will be removed in a future version. Convert inf values to NaN before operating instead.\n",
      "  with pd.option_context('mode.use_inf_as_na', True):\n",
      "/Users/brekigudmundsson/miniconda3/envs/venv/lib/python3.10/site-packages/seaborn/_oldcore.py:1119: FutureWarning: use_inf_as_na option is deprecated and will be removed in a future version. Convert inf values to NaN before operating instead.\n",
      "  with pd.option_context('mode.use_inf_as_na', True):\n"
     ]
    },
    {
     "data": {
      "image/png": "[encoded data removed]",
      "text/plain": [
       "<Figure size 640x480 with 1 Axes>"
      ]
     },
     "metadata": {},
     "output_type": "display_data"
    }
   ],
   "source": [
    "rewards_to_plot = total_points_history\n",
    "df1 = pd.DataFrame(rewards_to_plot).melt()\n",
    "df1.rename(columns={\"variable\": \"episodes\", \"value\": \"reward\"}, inplace=True)\n",
    "sns.set(style=\"darkgrid\", context=\"talk\", palette=\"rainbow\")\n",
    "sns.lineplot(x=\"episodes\", y=\"reward\", data=df1).set(\n",
    "    title=\"REINFORCE for InvertedPendulum-v4\"\n",
    ")\n",
    "plt.show()"
   ]
  },
  {
   "cell_type": "code",
   "execution_count": 25,
   "metadata": {},
   "outputs": [
    {
     "ename": "AttributeError",
     "evalue": "module 'gymnasium.utils' has no attribute 'play'",
     "output_type": "error",
     "traceback": [
      "\u001b[0;31m---------------------------------------------------------------------------\u001b[0m",
      "\u001b[0;31mAttributeError\u001b[0m                            Traceback (most recent call last)",
      "\u001b[1;32m/Users/brekigudmundsson/programming/machine_learning/projects/gymnasium/CartPole/cartPole.ipynb Cell 26\u001b[0m line \u001b[0;36m1\n\u001b[0;32m----> <a href='vscode-notebook-cell:/Users/brekigudmundsson/programming/machine_learning/projects/gymnasium/CartPole/cartPole.ipynb#X34sZmlsZQ%3D%3D?line=0'>1</a>\u001b[0m gym\u001b[39m.\u001b[39;49mutils\u001b[39m.\u001b[39;49mplay\u001b[39m.\u001b[39mplay(env)\n",
      "\u001b[0;31mAttributeError\u001b[0m: module 'gymnasium.utils' has no attribute 'play'"
     ]
    }
   ],
   "source": [
    "gym.utils.play.play(env)"
   ]
  },
  {
   "cell_type": "code",
   "execution_count": null,
   "metadata": {},
   "outputs": [],
   "source": []
  }
 ],
 "metadata": {
  "kernelspec": {
   "display_name": "Python 3",
   "language": "python",
   "name": "python3"
  },
  "language_info": {
   "codemirror_mode": {
    "name": "ipython",
    "version": 3
   },
   "file_extension": ".py",
   "mimetype": "text/x-python",
   "name": "python",
   "nbconvert_exporter": "python",
   "pygments_lexer": "ipython3",
   "version": "3.10.9"
  }
 },
 "nbformat": 4,
 "nbformat_minor": 2
}
